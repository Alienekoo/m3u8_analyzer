{
 "cells": [
  {
   "cell_type": "code",
   "execution_count": 2,
   "metadata": {},
   "outputs": [],
   "source": [
    "import pymongo\n",
    "import urllib.parse as urlparse\n",
    "from sklearn.ensemble import RandomForestClassifier\n",
    "from sklearn.model_selection import train_test_split\n",
    "from sklearn.tree import DecisionTreeClassifier\n",
    "from sklearn.linear_model import LogisticRegression\n",
    "from sklearn import svm\n",
    "import pandas as pd\n",
    "import random\n",
    "import datetime\n",
    "from pprint import pprint"
   ]
  },
  {
   "cell_type": "code",
   "execution_count": null,
   "metadata": {},
   "outputs": [],
   "source": [
    "conn = pymongo.MongoClient(\"mongodb://192.168.5.157:27017/\")\n",
    "db = conn.mydatabase_2\n",
    "col = db.train_data\n",
    "cur = list(col.find({}, {'_id': False}))\n",
    "labels = cur[0]['labels'] + cur[2]['labels']+cur[1]['labels']\n",
    "data = cur[0]['data'] + cur[2]['data']+cur[1]['data']\n",
    "\n",
    "data_train, data_test, labels_train, labels_test = train_test_split(data, labels, test_size=0.33, random_state=42)\n",
    "print(len(labels_train))\n",
    "print(len(labels_test))"
   ]
  },
  {
   "cell_type": "code",
   "execution_count": null,
   "metadata": {},
   "outputs": [],
   "source": [
    "clf = RandomForestClassifier(n_estimators=100)\n",
    "clf.fit(data_train, labels_train)\n",
    "data_pred = clf.predict(data_test)\n",
    "score = clf.score(data_test, labels_test)\n",
    "print(\"RamdomForest pred: \", data_pred)\n",
    "print(\"RandomForest score: \", score)\n",
    "from sklearn import metrics\n",
    "\n",
    "print(\"Accuracy with random test data: \", metrics.accuracy_score(labels_test, data_pred))\n"
   ]
  },
  {
   "cell_type": "code",
   "execution_count": null,
   "metadata": {},
   "outputs": [],
   "source": [
    "lr = LogisticRegression(solver='lbfgs', multi_class='auto', max_iter=8000)\n",
    "lr.fit(data_train, labels_train)\n",
    "predictions = lr.predict(data_test)\n",
    "score = lr.score(data_test, labels_test)\n",
    "print(\"logistic pred: \", predictions)\n",
    "print(\"logistic score: \", score)\n",
    "\n"
   ]
  },
  {
   "cell_type": "code",
   "execution_count": null,
   "metadata": {},
   "outputs": [],
   "source": [
    "dtc = DecisionTreeClassifier()\n",
    "dtc.fit(data_train, labels_train)\n",
    "predictions = dtc.predict(data_test)\n",
    "score = dtc.score(data_test, labels_test)\n",
    "print(\"decision pred: \", predictions)\n",
    "print(\"decision score: \", score)\n"
   ]
  },
  {
   "cell_type": "code",
   "execution_count": null,
   "metadata": {},
   "outputs": [],
   "source": [
    "svm = svm.SVC(gamma='auto', C=1, kernel='linear')\n",
    "svm.fit(data_train, labels_train)\n",
    "predictions = svm.predict(data_test)\n",
    "score = svm.score(data_test, labels_test)\n",
    "print(\"svm pred: \", predictions)\n",
    "print(\"svm score: \", score)\n"
   ]
  },
  {
   "cell_type": "code",
   "execution_count": null,
   "metadata": {},
   "outputs": [],
   "source": []
  }
 ],
 "metadata": {
  "kernelspec": {
   "display_name": "Python 3",
   "language": "python",
   "name": "python3"
  },
  "language_info": {
   "codemirror_mode": {
    "name": "ipython",
    "version": 3
   },
   "file_extension": ".py",
   "mimetype": "text/x-python",
   "name": "python",
   "nbconvert_exporter": "python",
   "pygments_lexer": "ipython3",
   "version": "3.7.3"
  }
 },
 "nbformat": 4,
 "nbformat_minor": 2
}
